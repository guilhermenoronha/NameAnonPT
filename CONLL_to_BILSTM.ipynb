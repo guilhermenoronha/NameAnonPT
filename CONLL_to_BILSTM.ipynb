{
 "cells": [
  {
   "cell_type": "markdown",
   "id": "aa391461-7cad-47d8-b7d4-a47b013e8a06",
   "metadata": {},
   "source": [
    "# Notebook to convert CONLL file into txt file readable by the Bi-LSTM library"
   ]
  },
  {
   "cell_type": "code",
   "execution_count": 24,
   "id": "bdad0e75-130d-4b43-a071-20b03972e37b",
   "metadata": {},
   "outputs": [],
   "source": [
    "text = []\n",
    "tags = []\n",
    "with open('project-1-at-2021-09-15-18-23-62af86a2.conll', 'r', encoding='UTF-8') as f:\n",
    "    full_text = f.readlines()\n",
    "for line in full_text[1:]:\n",
    "    if line != '\\n':\n",
    "        words = line.split()\n",
    "        text.append(f'\"{words[0]}\"')\n",
    "        tags.append(f'\"{words[3]}\"')\n",
    "    else:\n",
    "        with open ('bilstm.txt', 'a', encoding='UTF-8') as f:\n",
    "            f.write(f'{text}\\t{tags}\\n')\n",
    "            text = []\n",
    "            tags = []"
   ]
  },
  {
   "cell_type": "code",
   "execution_count": null,
   "id": "a1c95143-e289-48e3-82a5-f950e59c28e4",
   "metadata": {},
   "outputs": [],
   "source": []
  }
 ],
 "metadata": {
  "kernelspec": {
   "display_name": "Python 3 (ipykernel)",
   "language": "python",
   "name": "python3"
  },
  "language_info": {
   "codemirror_mode": {
    "name": "ipython",
    "version": 3
   },
   "file_extension": ".py",
   "mimetype": "text/x-python",
   "name": "python",
   "nbconvert_exporter": "python",
   "pygments_lexer": "ipython3",
   "version": "3.8.11"
  }
 },
 "nbformat": 4,
 "nbformat_minor": 5
}
